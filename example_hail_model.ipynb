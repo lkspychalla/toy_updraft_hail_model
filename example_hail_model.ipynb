{
 "cells": [
  {
   "cell_type": "code",
   "execution_count": null,
   "id": "a770b911-5921-4394-8435-3e138c6d3d5c",
   "metadata": {},
   "outputs": [],
   "source": [
    "import numpy as np\n",
    "import matplotlib.pyplot as plt\n",
    "import xarray as xr\n",
    "from grow_hail_master import hail_model"
   ]
  },
  {
   "cell_type": "code",
   "execution_count": null,
   "id": "38835738-c9ba-4981-a0db-66966b76988e",
   "metadata": {},
   "outputs": [],
   "source": [
    "# Load in the datasets that will be used for parameters sampling\n",
    "# ds_hail contains the coupled trajectory-specific parameters that modify maximum liquid water content and maximum vertical velocity\n",
    "ds_hail  = xr.open_dataset('data/coupled_trajectory_scaling_parameters.nc')\n",
    "# ds_storm contains the coupled environmental parameters taken from storm proxy soundings (Warren et al., 2021, MWR)\n",
    "ds_storm = xr.open_dataset('data/coupled_environmental_parameters.nc')\n",
    "# ds_all is a collection of randomly selected parameters following the EX Monte Carlo simulation from Spychalla and Kumjian (2025b)\n",
    "ds_all   = xr.open_dataset('data/all_parameters_example_dataset.nc')"
   ]
  },
  {
   "cell_type": "code",
   "execution_count": null,
   "id": "dafb10f5-f777-4acc-b21d-4b2dc76a0738",
   "metadata": {},
   "outputs": [],
   "source": [
    "# Run the hail model: sampling 1000 unique parameter combinations with 5 trajectory realizations of each.\n",
    "# By default when no 'sampling_method' is passed, all model parameters are sampled according to the EX Monte Carlo simulation\n",
    "hail_out_ex = hail_model( n_samples=1000, n_realizations=5)"
   ]
  },
  {
   "cell_type": "code",
   "execution_count": null,
   "id": "4a390907-6b7c-49bb-837c-77f7672d3880",
   "metadata": {},
   "outputs": [],
   "source": [
    "# Pull out the output data: final maximum dimension, total time aloft, and final location\n",
    "D_max = hail_out_ex.D_max.values\n",
    "t_tot = hail_out_ex.t_tot.values\n",
    "lofted = hail_out_ex.lofted.values"
   ]
  },
  {
   "cell_type": "code",
   "execution_count": null,
   "id": "5f99e445-12c3-4a89-b553-000ba909b7ec",
   "metadata": {},
   "outputs": [],
   "source": [
    "# Plot the distribution of hail sizes of the hailstones that hit the ground\n",
    "plt.figure()\n",
    "plt.hist(D_max[~lofted]*100, bins=np.arange(0,np.nanmax(D_max)*100+0.5,0.5), color='maroon', edgecolor='k')\n",
    "plt.yscale('log')\n",
    "plt.title('Hail Size Distirubtion')\n",
    "plt.xlabel(r'$D_{max}$ [cm]')\n",
    "plt.ylabel('Count')\n",
    "plt.show()"
   ]
  },
  {
   "cell_type": "code",
   "execution_count": null,
   "id": "5995cf7e-8063-4167-8d74-90c88dde4c98",
   "metadata": {},
   "outputs": [],
   "source": [
    "# Make a scatter plot of hail size vs. total time aloft\n",
    "large_ground_hailstones = np.logical_and(~lofted, D_max > 0.02)\n",
    "plt.figure()\n",
    "plt.scatter(D_max[large_ground_hailstones]*100, t_tot[large_ground_hailstones], color='maroon', edgecolor='k')\n",
    "# plt.yscale('log')\n",
    "plt.title('Hail Size vs. Total Time Aloft')\n",
    "plt.xlabel(r'$D_{max}$ [cm]')\n",
    "plt.ylabel(r'$t_{tot}$ [s]')\n",
    "plt.show()"
   ]
  },
  {
   "cell_type": "code",
   "execution_count": null,
   "id": "0d5c03f9-689f-4c41-909a-bfe4dc27445e",
   "metadata": {},
   "outputs": [],
   "source": [
    "# Run the hail model again with coupled sampling:\n",
    "hail_out_mp = hail_model( n_samples=1000, n_realizations=5, sampling_method='mp', ds_hail=ds_hail, ds_storm=ds_storm )"
   ]
  },
  {
   "cell_type": "code",
   "execution_count": null,
   "id": "69ce3a14-3f15-4c08-8181-c47612280569",
   "metadata": {},
   "outputs": [],
   "source": [
    "# Pull out output from coupled simulation:\n",
    "D_max_mp = hail_out_mp.D_max.values\n",
    "t_tot_mp = hail_out_mp.t_tot.values\n",
    "lofted_mp = hail_out_mp.lofted.values"
   ]
  },
  {
   "cell_type": "code",
   "execution_count": null,
   "id": "66975781-8708-4b5a-a218-86065eb2410d",
   "metadata": {},
   "outputs": [],
   "source": [
    "# Compare the size distributions for the coupled and uncoupled simulations\n",
    "plt.figure()\n",
    "plt.hist(D_max[~lofted]*100, bins=np.arange(0,np.nanmax(D_max)*100+0.5,0.5), color='maroon', edgecolor='k')\n",
    "plt.hist(D_max_mp[~lofted_mp]*100, bins=np.arange(0,np.nanmax(D_max_mp)*100+0.5,0.5), color='rebeccapurple', edgecolor='k', alpha=0.7)\n",
    "plt.yscale('log')\n",
    "plt.title('Hail Size Distirubtion')\n",
    "plt.xlabel(r'$D_{max}$ [cm]')\n",
    "plt.ylabel('Count')\n",
    "plt.show()"
   ]
  },
  {
   "cell_type": "code",
   "execution_count": null,
   "id": "5da3ef2c-cb18-40df-b72c-641bdc1add22",
   "metadata": {},
   "outputs": [],
   "source": [
    "# The same can be done for coupled inputs with an exponential initial size distribution (SP simulation) and for manually defined inputs.\n",
    "# For example, lets run a coupled simulation with exponential output, then run the same simulation again by passing in the output dataset to \"hail_model\" with sampling_method='manual'\n",
    "hail_out_sp = hail_model( n_samples=1000, n_realizations=5, sampling_method='sp', ds_hail=ds_hail, ds_storm=ds_storm )\n",
    "# Take the output and subsample so that only one realization remains for initial parameter sampling\n",
    "ds_resample = hail_out_sp.sel(realization=0)\n",
    "# Drop all output data from the dataset so only input parameters remain\n",
    "ds_resample = ds_resample.drop(['t_tot', 'D_max', 'lofted'])\n",
    "# Rerun the hail model with ds_all=ds_resample\n",
    "hail_out_manual = hail_model( n_samples=1000, n_realizations=5, sampling_method='manual', ds_all=ds_resample )"
   ]
  },
  {
   "cell_type": "code",
   "execution_count": null,
   "id": "6fb08655-fe07-4194-9ef4-3cc95f6c21b8",
   "metadata": {},
   "outputs": [],
   "source": [
    "# Pull out output from coupled simulation:\n",
    "D_max_sp1 = hail_out_sp.D_max.values\n",
    "t_tot_sp1 = hail_out_sp.t_tot.values\n",
    "lofted_sp1 = hail_out_sp.lofted.values\n",
    "\n",
    "# Pull out output from coupled simulation:\n",
    "D_max_sp2 = hail_out_manual.D_max.values\n",
    "t_tot_sp2 = hail_out_manual.t_tot.values\n",
    "lofted_sp2 = hail_out_manual.lofted.values"
   ]
  },
  {
   "cell_type": "code",
   "execution_count": null,
   "id": "8e876257-7e44-4039-acfd-88d7142a95a1",
   "metadata": {},
   "outputs": [],
   "source": [
    "# Compare the size distributions for the two coupled simulations with exponential hail embryo sizes\n",
    "# Notice that although the input parameters were the same, there is some variation in output sizes because of the model's built-in stochasticiticy\n",
    "plt.figure()\n",
    "plt.hist(D_max_sp1[~lofted_sp1]*100, bins=np.arange(0,np.nanmax(D_max_sp1)*100+0.5,0.5), color='darkblue', edgecolor='k')\n",
    "plt.hist(D_max_sp2[~lofted_sp2]*100, bins=np.arange(0,np.nanmax(D_max_sp2)*100+0.5,0.5), color='forestgreen', edgecolor='k', alpha=0.7)\n",
    "plt.yscale('log')\n",
    "plt.title('Hail Size Distirubtion')\n",
    "plt.xlabel(r'$D_{max}$ [cm]')\n",
    "plt.ylabel('Count')\n",
    "plt.show()"
   ]
  },
  {
   "cell_type": "code",
   "execution_count": null,
   "id": "084c6afe-8934-411c-90d3-e6bb1269eb6e",
   "metadata": {},
   "outputs": [],
   "source": []
  }
 ],
 "metadata": {
  "kernelspec": {
   "display_name": "npl_sklearn",
   "language": "python",
   "name": "npl_sklearn"
  },
  "language_info": {
   "codemirror_mode": {
    "name": "ipython",
    "version": 3
   },
   "file_extension": ".py",
   "mimetype": "text/x-python",
   "name": "python",
   "nbconvert_exporter": "python",
   "pygments_lexer": "ipython3",
   "version": "3.7.12"
  }
 },
 "nbformat": 4,
 "nbformat_minor": 5
}
